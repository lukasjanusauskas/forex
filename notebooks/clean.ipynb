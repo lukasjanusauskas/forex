{
 "cells": [
  {
   "cell_type": "markdown",
   "metadata": {},
   "source": [
    "#### In this notebook I only clean unwanted dimensions and pick desired values for each dimension."
   ]
  },
  {
   "cell_type": "code",
   "execution_count": 1,
   "metadata": {},
   "outputs": [],
   "source": [
    "import os\n",
    "from dotenv import load_dotenv"
   ]
  },
  {
   "cell_type": "code",
   "execution_count": null,
   "metadata": {},
   "outputs": [],
   "source": [
    "import pandas as pd\n",
    "from sqlalchemy import create_engine, URL"
   ]
  },
  {
   "cell_type": "code",
   "execution_count": 3,
   "metadata": {},
   "outputs": [],
   "source": [
    "load_dotenv()\n",
    "\n",
    "pg_user = os.environ[\"POSTGRES_USER\"]\n",
    "pg_db = os.environ[\"POSTGRES_DB\"]\n",
    "\n",
    "url = URL.create(\n",
    "  \"postgresql+psycopg2\",\n",
    "  username=pg_user,\n",
    "  database=pg_db\n",
    ")\n",
    "\n",
    "con = create_engine(url)"
   ]
  },
  {
   "cell_type": "code",
   "execution_count": null,
   "metadata": {},
   "outputs": [
    {
     "data": {
      "text/html": [
       "<div>\n",
       "<style scoped>\n",
       "    .dataframe tbody tr th:only-of-type {\n",
       "        vertical-align: middle;\n",
       "    }\n",
       "\n",
       "    .dataframe tbody tr th {\n",
       "        vertical-align: top;\n",
       "    }\n",
       "\n",
       "    .dataframe thead th {\n",
       "        text-align: right;\n",
       "    }\n",
       "</style>\n",
       "<table border=\"1\" class=\"dataframe\">\n",
       "  <thead>\n",
       "    <tr style=\"text-align: right;\">\n",
       "      <th></th>\n",
       "      <th>index</th>\n",
       "      <th>REF_AREA</th>\n",
       "      <th>COUNTERPART_AREA</th>\n",
       "      <th>MEASURE</th>\n",
       "      <th>ACCOUNTING_ENTRY</th>\n",
       "      <th>FS_ENTRY</th>\n",
       "      <th>FREQ</th>\n",
       "      <th>UNIT_MEASURE</th>\n",
       "      <th>ADJUSTMENT</th>\n",
       "      <th>TIME_PERIOD</th>\n",
       "      <th>OBS_VALUE</th>\n",
       "      <th>OBS_STATUS</th>\n",
       "      <th>UNIT_MULT</th>\n",
       "      <th>CURRENCY</th>\n",
       "      <th>DECIMALS</th>\n",
       "    </tr>\n",
       "  </thead>\n",
       "  <tbody>\n",
       "    <tr>\n",
       "      <th>0</th>\n",
       "      <td>0</td>\n",
       "      <td>0</td>\n",
       "      <td>0</td>\n",
       "      <td>0</td>\n",
       "      <td>0</td>\n",
       "      <td>0</td>\n",
       "      <td>0</td>\n",
       "      <td>0</td>\n",
       "      <td>0</td>\n",
       "      <td>2003-04-01</td>\n",
       "      <td>16209.56</td>\n",
       "      <td>0</td>\n",
       "      <td>6</td>\n",
       "      <td>0</td>\n",
       "      <td>2</td>\n",
       "    </tr>\n",
       "    <tr>\n",
       "      <th>1</th>\n",
       "      <td>1</td>\n",
       "      <td>0</td>\n",
       "      <td>0</td>\n",
       "      <td>0</td>\n",
       "      <td>0</td>\n",
       "      <td>0</td>\n",
       "      <td>0</td>\n",
       "      <td>0</td>\n",
       "      <td>0</td>\n",
       "      <td>2003-07-01</td>\n",
       "      <td>16491.17</td>\n",
       "      <td>0</td>\n",
       "      <td>6</td>\n",
       "      <td>0</td>\n",
       "      <td>2</td>\n",
       "    </tr>\n",
       "    <tr>\n",
       "      <th>2</th>\n",
       "      <td>2</td>\n",
       "      <td>0</td>\n",
       "      <td>0</td>\n",
       "      <td>0</td>\n",
       "      <td>0</td>\n",
       "      <td>0</td>\n",
       "      <td>0</td>\n",
       "      <td>0</td>\n",
       "      <td>0</td>\n",
       "      <td>2003-10-01</td>\n",
       "      <td>16172.25</td>\n",
       "      <td>0</td>\n",
       "      <td>6</td>\n",
       "      <td>0</td>\n",
       "      <td>2</td>\n",
       "    </tr>\n",
       "    <tr>\n",
       "      <th>3</th>\n",
       "      <td>3</td>\n",
       "      <td>0</td>\n",
       "      <td>0</td>\n",
       "      <td>0</td>\n",
       "      <td>0</td>\n",
       "      <td>0</td>\n",
       "      <td>0</td>\n",
       "      <td>0</td>\n",
       "      <td>0</td>\n",
       "      <td>2004-01-01</td>\n",
       "      <td>16250.90</td>\n",
       "      <td>0</td>\n",
       "      <td>6</td>\n",
       "      <td>0</td>\n",
       "      <td>2</td>\n",
       "    </tr>\n",
       "    <tr>\n",
       "      <th>4</th>\n",
       "      <td>4</td>\n",
       "      <td>0</td>\n",
       "      <td>0</td>\n",
       "      <td>0</td>\n",
       "      <td>0</td>\n",
       "      <td>0</td>\n",
       "      <td>0</td>\n",
       "      <td>0</td>\n",
       "      <td>0</td>\n",
       "      <td>2004-04-01</td>\n",
       "      <td>16740.05</td>\n",
       "      <td>0</td>\n",
       "      <td>6</td>\n",
       "      <td>0</td>\n",
       "      <td>2</td>\n",
       "    </tr>\n",
       "  </tbody>\n",
       "</table>\n",
       "</div>"
      ],
      "text/plain": [
       "   index  REF_AREA  COUNTERPART_AREA  MEASURE  ACCOUNTING_ENTRY  FS_ENTRY  \\\n",
       "0      0         0                 0        0                 0         0   \n",
       "1      1         0                 0        0                 0         0   \n",
       "2      2         0                 0        0                 0         0   \n",
       "3      3         0                 0        0                 0         0   \n",
       "4      4         0                 0        0                 0         0   \n",
       "\n",
       "   FREQ  UNIT_MEASURE  ADJUSTMENT TIME_PERIOD  OBS_VALUE  OBS_STATUS  \\\n",
       "0     0             0           0  2003-04-01   16209.56           0   \n",
       "1     0             0           0  2003-07-01   16491.17           0   \n",
       "2     0             0           0  2003-10-01   16172.25           0   \n",
       "3     0             0           0  2004-01-01   16250.90           0   \n",
       "4     0             0           0  2004-04-01   16740.05           0   \n",
       "\n",
       "   UNIT_MULT  CURRENCY  DECIMALS  \n",
       "0          6         0         2  \n",
       "1          6         0         2  \n",
       "2          6         0         2  \n",
       "3          6         0         2  \n",
       "4          6         0         2  "
      ]
     },
     "execution_count": 7,
     "metadata": {},
     "output_type": "execute_result"
    }
   ],
   "source": [
    "bop = pd.read_sql_table(\"balance_of_pay\", con=con)\n",
    "bop.drop(\"index\", axis=\"columns\", inplace=True)\n",
    "bop.head()"
   ]
  },
  {
   "cell_type": "code",
   "execution_count": 16,
   "metadata": {},
   "outputs": [
    {
     "data": {
      "text/plain": [
       "REF_AREA            False\n",
       "COUNTERPART_AREA     True\n",
       "MEASURE             False\n",
       "ACCOUNTING_ENTRY    False\n",
       "FS_ENTRY             True\n",
       "FREQ                False\n",
       "UNIT_MEASURE        False\n",
       "ADJUSTMENT          False\n",
       "TIME_PERIOD         False\n",
       "OBS_VALUE           False\n",
       "OBS_STATUS          False\n",
       "UNIT_MULT           False\n",
       "CURRENCY            False\n",
       "DECIMALS             True\n",
       "dtype: bool"
      ]
     },
     "execution_count": 16,
     "metadata": {},
     "output_type": "execute_result"
    }
   ],
   "source": [
    "bop.min() - bop.max() == 0"
   ]
  },
  {
   "cell_type": "markdown",
   "metadata": {},
   "source": [
    "#### Firstly, the `COUNTERPART_AREA`, `FS_ENTRY` and `DECIMALS` have only one unique value. Thus they have to be deleted(both columns and dimension tables in the database)."
   ]
  },
  {
   "cell_type": "code",
   "execution_count": null,
   "metadata": {},
   "outputs": [],
   "source": [
    "from sqlalchemy.sql import text"
   ]
  },
  {
   "cell_type": "code",
   "execution_count": 36,
   "metadata": {},
   "outputs": [],
   "source": [
    "def drop_columns(tbl: str, cols: list[str], engine) -> None: \n",
    "  if len(cols) == 0:\n",
    "    return\n",
    "  \n",
    "  query = f\"ALTER TABLE {tbl}\"\n",
    "\n",
    "  for col in cols:\n",
    "    query += f'\\nDROP COLUMN \"{col}\",'\n",
    "\n",
    "  with engine.connect() as con:\n",
    "    query = query.strip(\",\")\n",
    "    query += \";\"\n",
    "    con.execute(text(query))"
   ]
  },
  {
   "cell_type": "code",
   "execution_count": null,
   "metadata": {},
   "outputs": [],
   "source": [
    "delete_bop_cols = [\"COUNTERPART_AREA\", \"FS_ENTRY\", \"DECIMALS\"]\n",
    "drop_columns(\"balance_of_pay\", delete_bop_cols, con)"
   ]
  },
  {
   "cell_type": "code",
   "execution_count": 39,
   "metadata": {},
   "outputs": [
    {
     "name": "stdout",
     "output_type": "stream",
     "text": [
      "<class 'pandas.core.frame.DataFrame'>\n",
      "RangeIndex: 1548250 entries, 0 to 1548249\n",
      "Data columns (total 14 columns):\n",
      " #   Column          Non-Null Count    Dtype  \n",
      "---  ------          --------------    -----  \n",
      " 0   index           1548250 non-null  int64  \n",
      " 1   REF_AREA        1548250 non-null  int64  \n",
      " 2   FREQ            1548250 non-null  int64  \n",
      " 3   MEASURE         1548250 non-null  int64  \n",
      " 4   UNIT_MEASURE    1548250 non-null  int64  \n",
      " 5   ACTIVITY        1548250 non-null  int64  \n",
      " 6   ADJUSTMENT      1548250 non-null  int64  \n",
      " 7   TRANSFORMATION  1548250 non-null  int64  \n",
      " 8   TIME_PERIOD     1548250 non-null  int64  \n",
      " 9   OBS_VALUE       1548206 non-null  float64\n",
      " 10  OBS_STATUS      1548250 non-null  int64  \n",
      " 11  UNIT_MULT       1548250 non-null  int64  \n",
      " 12  DECIMALS        1548250 non-null  int64  \n",
      " 13  BASE_PER        302090 non-null   float64\n",
      "dtypes: float64(2), int64(12)\n",
      "memory usage: 165.4 MB\n"
     ]
    }
   ],
   "source": [
    "rates = pd.read_sql_table(\"interest_rate\", con)\n",
    "rates.info()"
   ]
  },
  {
   "cell_type": "code",
   "execution_count": 40,
   "metadata": {},
   "outputs": [
    {
     "data": {
      "text/plain": [
       "index             False\n",
       "REF_AREA          False\n",
       "FREQ              False\n",
       "MEASURE           False\n",
       "UNIT_MEASURE      False\n",
       "ACTIVITY          False\n",
       "ADJUSTMENT        False\n",
       "TRANSFORMATION    False\n",
       "TIME_PERIOD       False\n",
       "OBS_VALUE         False\n",
       "OBS_STATUS        False\n",
       "UNIT_MULT         False\n",
       "DECIMALS           True\n",
       "BASE_PER           True\n",
       "dtype: bool"
      ]
     },
     "execution_count": 40,
     "metadata": {},
     "output_type": "execute_result"
    }
   ],
   "source": [
    "rates.max() - rates.min() == 0"
   ]
  },
  {
   "cell_type": "markdown",
   "metadata": {},
   "source": [
    "### Here only `DECIMALS` and `BASE_PER` are redundant, others may make sense"
   ]
  },
  {
   "cell_type": "code",
   "execution_count": null,
   "metadata": {},
   "outputs": [],
   "source": [
    "rates_drop_columns = [\"DECIMALS\", \"BASE_PER\"]\n",
    "drop_columns(\"interest_rate\", rates_drop_columns, con)"
   ]
  },
  {
   "cell_type": "code",
   "execution_count": null,
   "metadata": {},
   "outputs": [],
   "source": [
    "exr = pd.read_sql_table(\"exchange_rates\", con=con)"
   ]
  },
  {
   "cell_type": "code",
   "execution_count": null,
   "metadata": {},
   "outputs": [
    {
     "name": "stdout",
     "output_type": "stream",
     "text": [
      "<class 'pandas.core.frame.DataFrame'>\n",
      "RangeIndex: 924697 entries, 0 to 924696\n",
      "Data columns (total 32 columns):\n",
      " #   Column           Non-Null Count   Dtype  \n",
      "---  ------           --------------   -----  \n",
      " 0   index            924697 non-null  int64  \n",
      " 1   FREQ             924697 non-null  int64  \n",
      " 2   CURRENCY         924697 non-null  int64  \n",
      " 3   CURRENCY_DENOM   924697 non-null  int64  \n",
      " 4   EXR_TYPE         924697 non-null  int64  \n",
      " 5   EXR_SUFFIX       924697 non-null  int64  \n",
      " 6   TIME_PERIOD      924697 non-null  int64  \n",
      " 7   OBS_VALUE        715662 non-null  float64\n",
      " 8   OBS_STATUS       924697 non-null  int64  \n",
      " 9   OBS_CONF         924697 non-null  int64  \n",
      " 10  OBS_PRE_BREAK    0 non-null       float64\n",
      " 11  OBS_COM          924697 non-null  int64  \n",
      " 12  TIME_FORMAT      924697 non-null  int64  \n",
      " 13  BREAKS           0 non-null       float64\n",
      " 14  COLLECTION       924697 non-null  int64  \n",
      " 15  COMPILING_ORG    0 non-null       float64\n",
      " 16  DISS_ORG         0 non-null       float64\n",
      " 17  DOM_SER_IDS      0 non-null       float64\n",
      " 18  PUBL_ECB         0 non-null       float64\n",
      " 19  PUBL_MU          0 non-null       float64\n",
      " 20  PUBL_PUBLIC      0 non-null       float64\n",
      " 21  UNIT_INDEX_BASE  924697 non-null  int64  \n",
      " 22  COMPILATION      924697 non-null  int64  \n",
      " 23  COVERAGE         0 non-null       float64\n",
      " 24  DECIMALS         924697 non-null  int64  \n",
      " 25  NAT_TITLE        0 non-null       float64\n",
      " 26  SOURCE_AGENCY    924697 non-null  int64  \n",
      " 27  SOURCE_PUB       0 non-null       float64\n",
      " 28  TITLE            924697 non-null  int64  \n",
      " 29  TITLE_COMPL      924697 non-null  int64  \n",
      " 30  UNIT             924697 non-null  int64  \n",
      " 31  UNIT_MULT        924697 non-null  int64  \n",
      "dtypes: float64(12), int64(20)\n",
      "memory usage: 225.8 MB\n"
     ]
    }
   ],
   "source": [
    "exr.info()"
   ]
  },
  {
   "cell_type": "markdown",
   "metadata": {},
   "source": [
    "#### A lot of these are NULL, so these have to be omitted.\n",
    "#### Also, UNIT_MULT has only one unique value"
   ]
  },
  {
   "cell_type": "code",
   "execution_count": 57,
   "metadata": {},
   "outputs": [],
   "source": [
    "mask = exr.apply(lambda x: sum(x.isna()), axis=\"index\")"
   ]
  },
  {
   "cell_type": "code",
   "execution_count": 63,
   "metadata": {},
   "outputs": [],
   "source": [
    "delete_cols = exr.keys()[mask == exr.shape[0]]\n",
    "drop_columns(\"exchange_rates\", list(delete_cols), con)"
   ]
  },
  {
   "cell_type": "markdown",
   "metadata": {},
   "source": [
    "#### Now, apart from this, we need to delete the dimension tables and dinamically create foreign keys"
   ]
  },
  {
   "cell_type": "code",
   "execution_count": 75,
   "metadata": {},
   "outputs": [
    {
     "name": "stdout",
     "output_type": "stream",
     "text": [
      "Failed to delete bop_decimals\n",
      "Failed to delete ex_rates_obs_pre_break\n",
      "Failed to delete ex_rates_breaks\n",
      "Failed to delete ex_rates_compiling_org\n",
      "Failed to delete ex_rates_diss_org\n",
      "Failed to delete ex_rates_dom_ser_ids\n",
      "Failed to delete ex_rates_publ_ecb\n",
      "Failed to delete ex_rates_publ_mu\n",
      "Failed to delete ex_rates_publ_public\n",
      "Failed to delete ex_rates_coverage\n",
      "Failed to delete ex_rates_nat_title\n",
      "Failed to delete ex_rates_source_pub\n",
      "Failed to delete int_rates_decimals\n",
      "Failed to delete int_rates_base_per\n"
     ]
    }
   ],
   "source": [
    "drop_tbls = (\n",
    "  [f\"bop_{col}\" for col in delete_bop_cols] +\n",
    "  [f\"ex_rates_{col}\" for col in delete_cols] +\n",
    "  [f\"int_rates_{col}\" for col in rates_drop_columns]\n",
    ")\n",
    "\n",
    "with con.connect() as conn:\n",
    "  for tbl in drop_tbls:\n",
    "    query = text(f\"DROP TABLE {tbl.lower()}\")\n",
    "\n",
    "    try:\n",
    "      conn.execute(query)\n",
    "    except:\n",
    "      print(f\"Failed to delete {tbl.lower()}\")\n",
    "      continue"
   ]
  }
 ],
 "metadata": {
  "kernelspec": {
   "display_name": "forex_venv",
   "language": "python",
   "name": "python3"
  },
  "language_info": {
   "codemirror_mode": {
    "name": "ipython",
    "version": 3
   },
   "file_extension": ".py",
   "mimetype": "text/x-python",
   "name": "python",
   "nbconvert_exporter": "python",
   "pygments_lexer": "ipython3",
   "version": "3.11.2"
  }
 },
 "nbformat": 4,
 "nbformat_minor": 2
}
