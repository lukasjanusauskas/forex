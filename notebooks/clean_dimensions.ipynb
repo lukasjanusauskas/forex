{
 "cells": [
  {
   "cell_type": "code",
   "execution_count": 1,
   "metadata": {},
   "outputs": [],
   "source": [
    "from sqlalchemy import create_engine, URL, text\n",
    "from dotenv import load_dotenv\n",
    "import pandas as pd\n",
    "import os"
   ]
  },
  {
   "cell_type": "code",
   "execution_count": 2,
   "metadata": {},
   "outputs": [],
   "source": [
    "load_dotenv()\n",
    "\n",
    "pg_user = os.environ[\"POSTGRES_USER\"]\n",
    "pg_db = os.environ[\"POSTGRES_DB\"]\n",
    "\n",
    "url = URL.create(\n",
    "  \"postgresql+psycopg2\",\n",
    "  username=pg_user,\n",
    "  database=pg_db\n",
    ")\n",
    "\n",
    "engine = create_engine(url)"
   ]
  },
  {
   "cell_type": "markdown",
   "metadata": {},
   "source": [
    "#### Get dimension tables"
   ]
  },
  {
   "cell_type": "code",
   "execution_count": 3,
   "metadata": {},
   "outputs": [],
   "source": [
    "def delete_dim_tables(list_dims: list[str], \n",
    "                      keep: list[str] | set[str]) -> None:\n",
    "  set_keep = set(keep)\n",
    "\n",
    "  with engine.connect() as con:\n",
    "    for dim_tbl in list_dims:\n",
    "      if dim_tbl in set_keep:\n",
    "        continue\n",
    "\n",
    "      query = text(f\"DROP TABLE {dim_tbl}\")\n",
    "      try:\n",
    "        con.execute(query)\n",
    "      except:\n",
    "        print(f\"Couldn't drop table {dim_tbl}\")\n",
    "\n",
    "    con.commit()"
   ]
  },
  {
   "cell_type": "code",
   "execution_count": 4,
   "metadata": {},
   "outputs": [],
   "source": [
    "def get_dim_tables(base: str) -> list[str]:\n",
    "  query = text(f\"\"\"SELECT table_name \n",
    "                  FROM information_schema.tables \n",
    "                  WHERE table_name LIKE '{base}_%'\"\"\")\n",
    "  \n",
    "  return pd.read_sql_query(query, engine)[\"table_name\"]"
   ]
  },
  {
   "cell_type": "code",
   "execution_count": 5,
   "metadata": {},
   "outputs": [],
   "source": [
    "def get_list_keys(tbl: str) -> list[str]:\n",
    "  query = text(f\"\"\"SELECT *\n",
    "                  FROM {tbl}\n",
    "                  LIMIT 0 \"\"\")\n",
    "\n",
    "  return list(pd.read_sql_query(query, engine)\n",
    "                .keys())"
   ]
  },
  {
   "cell_type": "code",
   "execution_count": 6,
   "metadata": {},
   "outputs": [],
   "source": [
    "list_dim_tables = get_dim_tables(\"bop\")\n",
    "list_keys = get_list_keys(\"balance_of_pay\")"
   ]
  },
  {
   "cell_type": "code",
   "execution_count": 7,
   "metadata": {},
   "outputs": [],
   "source": [
    "keep_list = set([\"bop_measure\", \"bop_ref_area\", \"bop_currency\"])\n",
    "delete_dim_tables(list_dim_tables, keep_list)"
   ]
  },
  {
   "cell_type": "code",
   "execution_count": 8,
   "metadata": {},
   "outputs": [
    {
     "data": {
      "text/plain": [
       "['entity', 'measure', 'date', 'value']"
      ]
     },
     "execution_count": 8,
     "metadata": {},
     "output_type": "execute_result"
    }
   ],
   "source": [
    "list_dim_tables = get_dim_tables(\"int_\")\n",
    "list_keys = get_list_keys(\"interest_rate\")\n",
    "list_keys"
   ]
  },
  {
   "cell_type": "code",
   "execution_count": 9,
   "metadata": {},
   "outputs": [],
   "source": [
    "list_keep = set([\"int_rates_measure\", \"int_rates_ref_area\", \"interest_rate\"])\n",
    "delete_dim_tables(list_dim_tables, keep = list_keep)"
   ]
  },
  {
   "cell_type": "code",
   "execution_count": 10,
   "metadata": {},
   "outputs": [
    {
     "data": {
      "text/plain": [
       "['currency', 'time_period', 'rate']"
      ]
     },
     "execution_count": 10,
     "metadata": {},
     "output_type": "execute_result"
    }
   ],
   "source": [
    "list_dim_tables = get_dim_tables(\"ex_rates_%\")\n",
    "list_keys = get_list_keys(\"ex_rates\")\n",
    "list_keys"
   ]
  },
  {
   "cell_type": "code",
   "execution_count": 11,
   "metadata": {},
   "outputs": [],
   "source": [
    "delete_dim_tables(list_dim_tables, keep = set([\"ex_rates_currency\"]))"
   ]
  }
 ],
 "metadata": {
  "kernelspec": {
   "display_name": "forex_venv",
   "language": "python",
   "name": "python3"
  },
  "language_info": {
   "codemirror_mode": {
    "name": "ipython",
    "version": 3
   },
   "file_extension": ".py",
   "mimetype": "text/x-python",
   "name": "python",
   "nbconvert_exporter": "python",
   "pygments_lexer": "ipython3",
   "version": "3.11.2"
  }
 },
 "nbformat": 4,
 "nbformat_minor": 2
}
