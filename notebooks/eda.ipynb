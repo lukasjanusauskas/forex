{
 "cells": [
  {
   "cell_type": "markdown",
   "metadata": {},
   "source": [
    "### The main tasks:\n",
    "- Check outliers\n",
    "- Explore the distribution of \n",
    "- Explore relationships\n",
    "- Check seasonality"
   ]
  },
  {
   "cell_type": "markdown",
   "metadata": {},
   "source": [
    "## 0. Import data"
   ]
  },
  {
   "cell_type": "code",
   "execution_count": 1,
   "metadata": {},
   "outputs": [],
   "source": [
    "from sqlalchemy import create_engine, URL, text\n",
    "from dotenv import load_dotenv\n",
    "import os\n",
    "\n",
    "import pandas as pd\n",
    "import numpy as np\n",
    "import matplotlib.pyplot as plt\n",
    "import seaborn as sns"
   ]
  },
  {
   "cell_type": "code",
   "execution_count": 7,
   "metadata": {},
   "outputs": [],
   "source": [
    "url = URL.create(\n",
    "  \"postgresql+psycopg2\",\n",
    "  username='admin',\n",
    "  database='forex',\n",
    "  password='pass',\n",
    "  host='localhost',\n",
    "  port='2345'\n",
    ")\n",
    "engine = create_engine(url)"
   ]
  },
  {
   "cell_type": "code",
   "execution_count": 2,
   "metadata": {},
   "outputs": [],
   "source": [
    "load_dotenv()\n",
    "\n",
    "pg_user = os.environ[\"POSTGRES_USER\"]\n",
    "pg_db = os.environ[\"POSTGRES_DB\"]\n",
    "\n",
    "url = URL.create(\n",
    "  \"postgresql+psycopg2\",\n",
    "  username=pg_user,\n",
    "  database=pg_db\n",
    ")\n",
    "\n",
    "engine = create_engine(url)"
   ]
  },
  {
   "cell_type": "markdown",
   "metadata": {},
   "source": [
    "## 1. Outliers"
   ]
  },
  {
   "cell_type": "code",
   "execution_count": null,
   "metadata": {},
   "outputs": [],
   "source": []
  }
 ],
 "metadata": {
  "kernelspec": {
   "display_name": "forex_venv",
   "language": "python",
   "name": "python3"
  },
  "language_info": {
   "codemirror_mode": {
    "name": "ipython",
    "version": 3
   },
   "file_extension": ".py",
   "mimetype": "text/x-python",
   "name": "python",
   "nbconvert_exporter": "python",
   "pygments_lexer": "ipython3",
   "version": "3.11.2"
  }
 },
 "nbformat": 4,
 "nbformat_minor": 2
}
